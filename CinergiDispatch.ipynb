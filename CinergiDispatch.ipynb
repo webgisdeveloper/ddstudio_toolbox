{
 "cells": [
  {
   "cell_type": "markdown",
   "metadata": {},
   "source": [
    "# Data Discovery Studio Jupyter Notebook Dispatcher\n",
    "\n",
    "Welcome to the Data Discovery Studio's Jupyter Notebook Server.\n",
    "\n",
    "This environment allows you to process data referenced from the DDS discovery interface. In a typical case, DDS document ID will be passed to the DDS notebook dispatcher, and then an appropriate notebook (for this data type) will be called to retrieve, analyze, visualize and otherwise process the data referenced in the DDS metadata record.\n",
    "\n",
    "Example call with Document ID from DDS: CinergiDispatch.ipynb?documentId=61cc7f6afb5246d2be41811e94a1a8ea\n",
    "\n",
    "In addition, if you have a collection of Jupyter notebooks organized in a similar github repository (e.g., to retrieve and visualize  additional types of dat,a or to offer additional processing), you can clone this repository into a running container and execute your copy of the dispatcher for the same document ID (see cell 2a.) \n",
    "\n",
    "## 1. Execute the cells below to get parameters from DDS and select a notebook for processing ###\n",
    "\n"
   ]
  },
  {
   "cell_type": "code",
   "execution_count": 1,
   "metadata": {},
   "outputs": [
    {
     "data": {
      "application/javascript": [
       "function getQueryStringValue (key)\n",
       "{  \n",
       "    return unescape(window.location.search.replace(new RegExp(\"^(?:.*[&\\\\?]\" + escape(key).replace(/[\\.\\+\\*]/g, \"\\\\$&\") + \"(?:\\\\=([^&]*))?)?.*$\", \"i\"), \"$1\"));\n",
       "}\n",
       "IPython.notebook.kernel.execute(\"documentID='\".concat(getQueryStringValue(\"documentId\")).concat(\"'\"));\n",
       "IPython.notebook.kernel.execute(\"user='\".concat(getQueryStringValue(\"user\")).concat(\"'\"));\n",
       "IPython.notebook.kernel.execute(\"full_notebook_url='\" + window.location + \"'\"); \n"
      ],
      "text/plain": [
       "<IPython.core.display.Javascript object>"
      ]
     },
     "metadata": {},
     "output_type": "display_data"
    }
   ],
   "source": [
    "%%javascript\n",
    "function getQueryStringValue (key)\n",
    "{  \n",
    "    return unescape(window.location.search.replace(new RegExp(\"^(?:.*[&\\\\?]\" + escape(key).replace(/[\\.\\+\\*]/g, \"\\\\$&\") + \"(?:\\\\=([^&]*))?)?.*$\", \"i\"), \"$1\"));\n",
    "}\n",
    "IPython.notebook.kernel.execute(\"documentID='\".concat(getQueryStringValue(\"documentId\")).concat(\"'\"));\n",
    "IPython.notebook.kernel.execute(\"user='\".concat(getQueryStringValue(\"user\")).concat(\"'\"));\n",
    "IPython.notebook.kernel.execute(\"full_notebook_url='\" + window.location + \"'\"); "
   ]
  },
  {
   "cell_type": "code",
   "execution_count": 6,
   "metadata": {},
   "outputs": [],
   "source": [
    "# for testing purpose\n",
    "# USGS rds: http://datadiscoverystudio.org/geoportal/rest/metadata/item/8b311ede6cd440c08f253f4226eccd16/xml\n",
    "documentID = '8b311ede6cd440c08f253f4226eccd16'"
   ]
  },
  {
   "cell_type": "markdown",
   "metadata": {},
   "source": [
    "## 2. Print out parameters passed to Jupyter: ##"
   ]
  },
  {
   "cell_type": "code",
   "execution_count": 3,
   "metadata": {
    "scrolled": true
   },
   "outputs": [
    {
     "name": "stdout",
     "output_type": "stream",
     "text": [
      "User:  \n",
      "DocumentID:  8b311ede6cd440c08f253f4226eccd16\n",
      "Full notebook URL:  http://localhost:8888/notebooks/ddstudio_toolbox/CinergiDispatch.ipynb\n"
     ]
    }
   ],
   "source": [
    "# Check if the parameters are correct\n",
    "from __future__ import print_function\n",
    "import ntpath\n",
    "from ipywidgets import interact, interactive, fixed, interact_manual\n",
    "import ipywidgets as widgets\n",
    "import webbrowser\n",
    "url_partitioned = full_notebook_url.partition('/CinergiDispatch')\n",
    "base_url = url_partitioned[0];\n",
    "\n",
    "print(\"User: \",user)\n",
    "print(\"DocumentID: \", documentID)\n",
    "print(\"Full notebook URL: \", full_notebook_url)"
   ]
  },
  {
   "cell_type": "markdown",
   "metadata": {},
   "source": [
    "### 2a. Optional: load notebooks from a different github repository ###\n",
    "Note: it must be a public repository"
   ]
  },
  {
   "cell_type": "code",
   "execution_count": 13,
   "metadata": {},
   "outputs": [
    {
     "name": "stderr",
     "output_type": "stream",
     "text": [
      "The system cannot find the file specified.\n",
      "The directory is not empty.\n"
     ]
    },
    {
     "name": "stdout",
     "output_type": "stream",
     "text": [
      "Click the URL to open the new dispatcher :  http://localhost:8889/notebooks/Documents/jupyter-cinergi/myclone/CinergiDispatch.ipynb?documentId=61cc7f6afb5246d2be41811e94a1a8ea&user=\n"
     ]
    },
    {
     "name": "stderr",
     "output_type": "stream",
     "text": [
      "fatal: destination path 'myclone' already exists and is not an empty directory.\n"
     ]
    }
   ],
   "source": [
    "!rm -rf myclone\n",
    "\n",
    "# in the following line, replace the repository with your own\n",
    "!git clone \"https://github.com/izaslavsky/jupyter-cinergi.git\" myclone\n",
    "\n",
    "url1 = ('{base_url}/CinergiDispatch.ipynb?'+'documentId='+documentID+'&'+'user='+user).format(base_url=base_url + \"/myclone\")\n",
    "print('Click the URL to open the new dispatcher : ', url1)\n"
   ]
  },
  {
   "cell_type": "markdown",
   "metadata": {},
   "source": [
    "## 3. Select an operation to run##"
   ]
  },
  {
   "cell_type": "code",
   "execution_count": 4,
   "metadata": {
    "scrolled": true
   },
   "outputs": [
    {
     "data": {
      "application/vnd.jupyter.widget-view+json": {
       "model_id": "b4c71a2354b94417967ed5273acca952",
       "version_major": 2,
       "version_minor": 0
      },
      "text/plain": [
       "interactive(children=(Dropdown(description='notebooks_menu', options=('1. USGS rdb', '2. NWIS Explore', '3. Ad…"
      ]
     },
     "metadata": {},
     "output_type": "display_data"
    },
    {
     "name": "stdout",
     "output_type": "stream",
     "text": [
      "Select an operation, and then run the next cell to open its notebook \n"
     ]
    }
   ],
   "source": [
    "from collections import OrderedDict\n",
    "\n",
    "nb_menu = OrderedDict()\n",
    "nb_menu['1. USGS rdb'] = 'hviews/USGS-rdb-explorer.ipynb'\n",
    "nb_menu['2. NWIS Explore'] = 'cinergi/NWIS-explore.ipynb'\n",
    "nb_menu['3. Add to OSF Project'] = 'cinergi/Cinergi_OSF.ipynb'\n",
    "\n",
    "def f(notebooks_menu):\n",
    "    return notebooks_menu\n",
    "# out = interact(f, notebooks_menu=nb_menu);\n",
    "out = interact(f, notebooks_menu=nb_menu.keys());\n",
    "\n",
    "print('Select an operation, and then run the next cell to open its notebook ')\n"
   ]
  },
  {
   "cell_type": "markdown",
   "metadata": {},
   "source": [
    "## 4. Open the URL of the selected notebook ##"
   ]
  },
  {
   "cell_type": "code",
   "execution_count": 5,
   "metadata": {},
   "outputs": [
    {
     "name": "stdout",
     "output_type": "stream",
     "text": [
      "CLICK TO OPEN THE URL:  http://localhost:8888/notebooks/ddstudio_toolbox/operations/hviews/USGS-rdb-explorer.ipynb?documentId=8b311ede6cd440c08f253f4226eccd16&user=\n"
     ]
    }
   ],
   "source": [
    "chosen_nb_name = nb_menu[out.widget.result]\n",
    "url1 = ('{base_url}/operations/{nb_name}?'+'documentId='+documentID+'&'+'user='+user).format(base_url=base_url, nb_name=chosen_nb_name)\n",
    "\n",
    "#webbrowser.open(url1)\n",
    "webbrowser.open_new(url1)\n",
    "print(\"CLICK TO OPEN THE URL: \", url1)\n"
   ]
  },
  {
   "cell_type": "code",
   "execution_count": null,
   "metadata": {},
   "outputs": [],
   "source": []
  }
 ],
 "metadata": {
  "kernelspec": {
   "display_name": "Python 3",
   "language": "python",
   "name": "python3"
  },
  "language_info": {
   "codemirror_mode": {
    "name": "ipython",
    "version": 3
   },
   "file_extension": ".py",
   "mimetype": "text/x-python",
   "name": "python",
   "nbconvert_exporter": "python",
   "pygments_lexer": "ipython3",
   "version": "3.6.8"
  },
  "toc": {
   "base_numbering": 1,
   "nav_menu": {},
   "number_sections": true,
   "sideBar": true,
   "skip_h1_title": false,
   "title_cell": "Table of Contents",
   "title_sidebar": "Contents",
   "toc_cell": false,
   "toc_position": {},
   "toc_section_display": true,
   "toc_window_display": false
  }
 },
 "nbformat": 4,
 "nbformat_minor": 2
}
