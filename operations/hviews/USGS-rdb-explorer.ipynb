{
 "cells": [
  {
   "cell_type": "code",
   "execution_count": 4,
   "metadata": {},
   "outputs": [
    {
     "data": {
      "application/javascript": [
       "function getQueryStringValue (key)\n",
       "{  \n",
       "    return unescape(window.location.search.replace(new RegExp(\"^(?:.*[&\\\\?]\" + escape(key).replace(/[\\.\\+\\*]/g, \"\\\\$&\") + \"(?:\\\\=([^&]*))?)?.*$\", \"i\"), \"$1\"));\n",
       "}\n",
       "IPython.notebook.kernel.execute(\"docID='\".concat(getQueryStringValue(\"documentId\")).concat(\"'\"));\n"
      ],
      "text/plain": [
       "<IPython.core.display.Javascript object>"
      ]
     },
     "metadata": {},
     "output_type": "display_data"
    }
   ],
   "source": [
    "%%javascript\n",
    "function getQueryStringValue (key)\n",
    "{  \n",
    "    return unescape(window.location.search.replace(new RegExp(\"^(?:.*[&\\\\?]\" + escape(key).replace(/[\\.\\+\\*]/g, \"\\\\$&\") + \"(?:\\\\=([^&]*))?)?.*$\", \"i\"), \"$1\"));\n",
    "}\n",
    "IPython.notebook.kernel.execute(\"docID='\".concat(getQueryStringValue(\"documentId\")).concat(\"'\"));"
   ]
  },
  {
   "cell_type": "code",
   "execution_count": 5,
   "metadata": {},
   "outputs": [],
   "source": [
    "import pandas as pd\n",
    "import numpy as np\n",
    "import datetime as dt\n",
    "import matplotlib.pyplot as plt\n",
    "import matplotlib.patches as mpatches\n",
    "import matplotlib.dates as mdates\n",
    "import requests, json\n",
    "from datetime import datetime, date, time\n",
    "from ipywidgets import widgets  \n",
    "from IPython import get_ipython\n",
    "from IPython.display import display\n",
    "from matplotlib import pylab\n",
    "from pylab import *\n",
    "from IPython.display import clear_output\n",
    "import xml.etree.ElementTree as ET"
   ]
  },
  {
   "cell_type": "code",
   "execution_count": 45,
   "metadata": {
    "scrolled": true
   },
   "outputs": [
    {
     "name": "stdout",
     "output_type": "stream",
     "text": [
      "Chester County, PA - Groundwater Depth - USGS (1951-2015)\n",
      "http://criticalzone.org/national/data/dataset/2516\n"
     ]
    }
   ],
   "source": [
    "#load xml page\n",
    "the_page = requests.get(cinergi_url+\"/xml\")\n",
    "the_xml = the_page.text\n",
    "#parse xml page\n",
    "root = ET.fromstring(the_xml)\n",
    "#extract data list\n",
    "datalist = []\n",
    "ns = {'gmd': 'http://www.isotc211.org/2005/gmd',\n",
    "      'gco': 'http://www.isotc211.org/2005/gco'}\n",
    "\n",
    "distrinfo = root.find('gmd:distributionInfo', ns)\n",
    "for entry in distrinfo.findall('.//gmd:CI_OnlineResource',ns):\n",
    "    name = (entry.find(\".//gmd:name\",ns))[0].text\n",
    "    #print(name[0].text)\n",
    "    data_url = (entry.find(\".//gmd:linkage\",ns))[0].text\n",
    "    #print(data_url)\n",
    "    if \"format=rdb\" in data_url:\n",
    "        datalist.append([name,data_url])\n",
    "\n",
    "# find the document title and link\n",
    "doc_title = (root.find('.//gmd:title',ns))[0].text\n",
    "print(doc_title)\n",
    "doc_dataSetURI = (root.find('gmd:dataSetURI',ns))[0].text\n",
    "print(doc_dataSetURI)\n"
   ]
  },
  {
   "cell_type": "code",
   "execution_count": 49,
   "metadata": {},
   "outputs": [],
   "source": [
    "df = pd.DataFrame(datalist, columns=[\"Title\", \"Data\"])"
   ]
  },
  {
   "cell_type": "code",
   "execution_count": 52,
   "metadata": {},
   "outputs": [
    {
     "data": {
      "text/html": [
       "<style  type=\"text/css\" >\n",
       "</style><table id=\"T_87b4f79e_c8f9_11e9_9ce4_705681bf31b9\" ><thead>    <tr>        <th class=\"blank level0\" ></th>        <th class=\"col_heading level0 col0\" >Title</th>        <th class=\"col_heading level0 col1\" >Data</th>    </tr></thead><tbody>\n",
       "                <tr>\n",
       "                        <th id=\"T_87b4f79e_c8f9_11e9_9ce4_705681bf31b9level0_row0\" class=\"row_heading level0 row0\" >0</th>\n",
       "                        <td id=\"T_87b4f79e_c8f9_11e9_9ce4_705681bf31b9row0_col0\" class=\"data row0 col0\" >CH 2, Honey Brook, Chester County, PA - Groundwater Depth 1951-current</td>\n",
       "                        <td id=\"T_87b4f79e_c8f9_11e9_9ce4_705681bf31b9row0_col1\" class=\"data row0 col1\" >http://nwis.waterdata.usgs.gov/pa/nwis/gwlevels?site_no=400650075514001&amp;agency_cd=USGS&amp;format=rdb</td>\n",
       "            </tr>\n",
       "            <tr>\n",
       "                        <th id=\"T_87b4f79e_c8f9_11e9_9ce4_705681bf31b9level0_row1\" class=\"row_heading level0 row1\" >1</th>\n",
       "                        <td id=\"T_87b4f79e_c8f9_11e9_9ce4_705681bf31b9row1_col0\" class=\"data row1 col0\" >CH 10, West Marlborough, Chester County, PA - Groundwater Depth 1951-current</td>\n",
       "                        <td id=\"T_87b4f79e_c8f9_11e9_9ce4_705681bf31b9row1_col1\" class=\"data row1 col1\" >http://nwis.waterdata.usgs.gov/pa/nwis/gwlevels?site_no=395450075485401&amp;agency_cd=USGS&amp;format=rdb</td>\n",
       "            </tr>\n",
       "            <tr>\n",
       "                        <th id=\"T_87b4f79e_c8f9_11e9_9ce4_705681bf31b9level0_row2\" class=\"row_heading level0 row2\" >2</th>\n",
       "                        <td id=\"T_87b4f79e_c8f9_11e9_9ce4_705681bf31b9row2_col0\" class=\"data row2 col0\" >CH 12, West Bradford, Chester County, PA - Groundwater Depth 1951-current</td>\n",
       "                        <td id=\"T_87b4f79e_c8f9_11e9_9ce4_705681bf31b9row2_col1\" class=\"data row2 col1\" >http://nwis.waterdata.usgs.gov/pa/nwis/gwlevels?site_no=395717075392301&amp;agency_cd=USGS&amp;format=rdb</td>\n",
       "            </tr>\n",
       "            <tr>\n",
       "                        <th id=\"T_87b4f79e_c8f9_11e9_9ce4_705681bf31b9level0_row3\" class=\"row_heading level0 row3\" >3</th>\n",
       "                        <td id=\"T_87b4f79e_c8f9_11e9_9ce4_705681bf31b9row3_col0\" class=\"data row3 col0\" >CH 38, New Garden, Chester County, PA - Groundwater Depth 1974-current</td>\n",
       "                        <td id=\"T_87b4f79e_c8f9_11e9_9ce4_705681bf31b9row3_col1\" class=\"data row3 col1\" >http://nwis.waterdata.usgs.gov/pa/nwis/gwlevels?site_no=394846075444901&amp;agency_cd=USGS&amp;format=rdb</td>\n",
       "            </tr>\n",
       "            <tr>\n",
       "                        <th id=\"T_87b4f79e_c8f9_11e9_9ce4_705681bf31b9level0_row4\" class=\"row_heading level0 row4\" >4</th>\n",
       "                        <td id=\"T_87b4f79e_c8f9_11e9_9ce4_705681bf31b9row4_col0\" class=\"data row4 col0\" >CH 89, East Whiteland, Chester County, PA - Groundwater Depth 1986-current</td>\n",
       "                        <td id=\"T_87b4f79e_c8f9_11e9_9ce4_705681bf31b9row4_col1\" class=\"data row4 col1\" >http://nwis.waterdata.usgs.gov/pa/nwis/gwlevels?site_no=400400075314401&amp;agency_cd=USGS&amp;format=rdb</td>\n",
       "            </tr>\n",
       "            <tr>\n",
       "                        <th id=\"T_87b4f79e_c8f9_11e9_9ce4_705681bf31b9level0_row5\" class=\"row_heading level0 row5\" >5</th>\n",
       "                        <td id=\"T_87b4f79e_c8f9_11e9_9ce4_705681bf31b9row5_col0\" class=\"data row5 col0\" >CH 210, Tredyffrin, Chester County, PA - Groundwater Depth 1978-current</td>\n",
       "                        <td id=\"T_87b4f79e_c8f9_11e9_9ce4_705681bf31b9row5_col1\" class=\"data row5 col1\" >http://nwis.waterdata.usgs.gov/pa/nwis/gwlevels?site_no=400453075255601&amp;agency_cd=USGS&amp;format=rdb</td>\n",
       "            </tr>\n",
       "            <tr>\n",
       "                        <th id=\"T_87b4f79e_c8f9_11e9_9ce4_705681bf31b9level0_row6\" class=\"row_heading level0 row6\" >6</th>\n",
       "                        <td id=\"T_87b4f79e_c8f9_11e9_9ce4_705681bf31b9row6_col0\" class=\"data row6 col0\" >CH 254, East Nottingham, Chester County, PA - Groundwater Depth 1987-current</td>\n",
       "                        <td id=\"T_87b4f79e_c8f9_11e9_9ce4_705681bf31b9row6_col1\" class=\"data row6 col1\" >http://nwis.waterdata.usgs.gov/pa/nwis/gwlevels?site_no=394457075581601&amp;agency_cd=USGS&amp;format=rdb</td>\n",
       "            </tr>\n",
       "            <tr>\n",
       "                        <th id=\"T_87b4f79e_c8f9_11e9_9ce4_705681bf31b9level0_row7\" class=\"row_heading level0 row7\" >7</th>\n",
       "                        <td id=\"T_87b4f79e_c8f9_11e9_9ce4_705681bf31b9row7_col0\" class=\"data row7 col0\" >CH 1201, West Sadsbury, Chester County, PA - Groundwater Depth 1973-current</td>\n",
       "                        <td id=\"T_87b4f79e_c8f9_11e9_9ce4_705681bf31b9row7_col1\" class=\"data row7 col1\" >http://nwis.waterdata.usgs.gov/pa/nwis/gwlevels?site_no=395701075561601&amp;agency_cd=USGS&amp;format=rdb</td>\n",
       "            </tr>\n",
       "            <tr>\n",
       "                        <th id=\"T_87b4f79e_c8f9_11e9_9ce4_705681bf31b9level0_row8\" class=\"row_heading level0 row8\" >8</th>\n",
       "                        <td id=\"T_87b4f79e_c8f9_11e9_9ce4_705681bf31b9row8_col0\" class=\"data row8 col0\" >CH 1247, West Vincent, Chester County, PA - Groundwater Depth 1973-current</td>\n",
       "                        <td id=\"T_87b4f79e_c8f9_11e9_9ce4_705681bf31b9row8_col1\" class=\"data row8 col1\" >http://nwis.waterdata.usgs.gov/pa/nwis/gwlevels?site_no=400645075411501&amp;agency_cd=USGS&amp;format=rdb</td>\n",
       "            </tr>\n",
       "            <tr>\n",
       "                        <th id=\"T_87b4f79e_c8f9_11e9_9ce4_705681bf31b9level0_row9\" class=\"row_heading level0 row9\" >9</th>\n",
       "                        <td id=\"T_87b4f79e_c8f9_11e9_9ce4_705681bf31b9row9_col0\" class=\"data row9 col0\" >CH 1387, Thornbury, Chester County, PA - Groundwater Depth 1974-current</td>\n",
       "                        <td id=\"T_87b4f79e_c8f9_11e9_9ce4_705681bf31b9row9_col1\" class=\"data row9 col1\" >http://nwis.waterdata.usgs.gov/pa/nwis/gwlevels?site_no=395540075332601&amp;agency_cd=USGS&amp;format=rdb</td>\n",
       "            </tr>\n",
       "            <tr>\n",
       "                        <th id=\"T_87b4f79e_c8f9_11e9_9ce4_705681bf31b9level0_row10\" class=\"row_heading level0 row10\" >10</th>\n",
       "                        <td id=\"T_87b4f79e_c8f9_11e9_9ce4_705681bf31b9row10_col0\" class=\"data row10 col0\" >CH 1571, East Vincent, Chester County, PA - Groundwater Depth 1974-current</td>\n",
       "                        <td id=\"T_87b4f79e_c8f9_11e9_9ce4_705681bf31b9row10_col1\" class=\"data row10 col1\" >http://nwis.waterdata.usgs.gov/pa/nwis/gwlevels?site_no=400956075391501&amp;agency_cd=USGS&amp;format=rdb</td>\n",
       "            </tr>\n",
       "            <tr>\n",
       "                        <th id=\"T_87b4f79e_c8f9_11e9_9ce4_705681bf31b9level0_row11\" class=\"row_heading level0 row11\" >11</th>\n",
       "                        <td id=\"T_87b4f79e_c8f9_11e9_9ce4_705681bf31b9row11_col0\" class=\"data row11 col0\" >CH 1921, New Garden, Chester County, PA - Groundwater Depth 1974-current</td>\n",
       "                        <td id=\"T_87b4f79e_c8f9_11e9_9ce4_705681bf31b9row11_col1\" class=\"data row11 col1\" >http://nwis.waterdata.usgs.gov/pa/nwis/gwlevels?site_no=394757075432101&amp;agency_cd=USGS&amp;format=rdb</td>\n",
       "            </tr>\n",
       "            <tr>\n",
       "                        <th id=\"T_87b4f79e_c8f9_11e9_9ce4_705681bf31b9level0_row12\" class=\"row_heading level0 row12\" >12</th>\n",
       "                        <td id=\"T_87b4f79e_c8f9_11e9_9ce4_705681bf31b9row12_col0\" class=\"data row12 col0\" >CH 2273, West Brandywine, Chester County, PA - Groundwater Depth 1975-current</td>\n",
       "                        <td id=\"T_87b4f79e_c8f9_11e9_9ce4_705681bf31b9row12_col1\" class=\"data row12 col1\" >http://nwis.waterdata.usgs.gov/pa/nwis/gwlevels?site_no=400242075484301&amp;agency_cd=USGS&amp;format=rdb</td>\n",
       "            </tr>\n",
       "            <tr>\n",
       "                        <th id=\"T_87b4f79e_c8f9_11e9_9ce4_705681bf31b9level0_row13\" class=\"row_heading level0 row13\" >13</th>\n",
       "                        <td id=\"T_87b4f79e_c8f9_11e9_9ce4_705681bf31b9row13_col0\" class=\"data row13 col0\" >CH 2313, East Whiteland, Chester County, PA - Groundwater Depth 1967-current</td>\n",
       "                        <td id=\"T_87b4f79e_c8f9_11e9_9ce4_705681bf31b9row13_col1\" class=\"data row13 col1\" >http://nwis.waterdata.usgs.gov/pa/nwis/gwlevels?site_no=400325075332501&amp;agency_cd=USGS&amp;format=rdb</td>\n",
       "            </tr>\n",
       "            <tr>\n",
       "                        <th id=\"T_87b4f79e_c8f9_11e9_9ce4_705681bf31b9level0_row14\" class=\"row_heading level0 row14\" >14</th>\n",
       "                        <td id=\"T_87b4f79e_c8f9_11e9_9ce4_705681bf31b9row14_col0\" class=\"data row14 col0\" >CH 2328, East Nantmeal, Chester County, PA - Groundwater Depth 1975-current</td>\n",
       "                        <td id=\"T_87b4f79e_c8f9_11e9_9ce4_705681bf31b9row14_col1\" class=\"data row14 col1\" >http://nwis.waterdata.usgs.gov/pa/nwis/gwlevels?site_no=400847075414701&amp;agency_cd=USGS&amp;format=rdb</td>\n",
       "            </tr>\n",
       "            <tr>\n",
       "                        <th id=\"T_87b4f79e_c8f9_11e9_9ce4_705681bf31b9level0_row15\" class=\"row_heading level0 row15\" >15</th>\n",
       "                        <td id=\"T_87b4f79e_c8f9_11e9_9ce4_705681bf31b9row15_col0\" class=\"data row15 col0\" >CH 2457, East Goshen, Chester County, PA - Groundwater Depth 1982-current</td>\n",
       "                        <td id=\"T_87b4f79e_c8f9_11e9_9ce4_705681bf31b9row15_col1\" class=\"data row15 col1\" >http://nwis.waterdata.usgs.gov/pa/nwis/gwlevels?site_no=400039075335201&amp;agency_cd=USGS&amp;format=rdb</td>\n",
       "            </tr>\n",
       "            <tr>\n",
       "                        <th id=\"T_87b4f79e_c8f9_11e9_9ce4_705681bf31b9level0_row16\" class=\"row_heading level0 row16\" >16</th>\n",
       "                        <td id=\"T_87b4f79e_c8f9_11e9_9ce4_705681bf31b9row16_col0\" class=\"data row16 col0\" >CH 2561,Charlestown, Chester County, PA - Groundwater Depth 1983-current</td>\n",
       "                        <td id=\"T_87b4f79e_c8f9_11e9_9ce4_705681bf31b9row16_col1\" class=\"data row16 col1\" >http://nwis.waterdata.usgs.gov/pa/nwis/gwlevels?site_no=400456075320301&amp;agency_cd=USGS&amp;format=rdb</td>\n",
       "            </tr>\n",
       "            <tr>\n",
       "                        <th id=\"T_87b4f79e_c8f9_11e9_9ce4_705681bf31b9level0_row17\" class=\"row_heading level0 row17\" >17</th>\n",
       "                        <td id=\"T_87b4f79e_c8f9_11e9_9ce4_705681bf31b9row17_col0\" class=\"data row17 col0\" >CH 2584, East Marlborough, Chester County, PA - Groundwater Depth 1983-current</td>\n",
       "                        <td id=\"T_87b4f79e_c8f9_11e9_9ce4_705681bf31b9row17_col1\" class=\"data row17 col1\" >http://nwis.waterdata.usgs.gov/pa/nwis/gwlevels?site_no=395225075422001&agency_cd=USGS&format=rdb</td>\n",
       "            </tr>\n",
       "            <tr>\n",
       "                        <th id=\"T_87b4f79e_c8f9_11e9_9ce4_705681bf31b9level0_row18\" class=\"row_heading level0 row18\" >18</th>\n",
       "                        <td id=\"T_87b4f79e_c8f9_11e9_9ce4_705681bf31b9row18_col0\" class=\"data row18 col0\" >CH 2663, New Garden, Chester County, PA - Groundwater Depth 1984-current</td>\n",
       "                        <td id=\"T_87b4f79e_c8f9_11e9_9ce4_705681bf31b9row18_col1\" class=\"data row18 col1\" >http://nwis.waterdata.usgs.gov/pa/nwis/gwlevels?site_no=394624075444001&agency_cd=USGS&format=rdb</td>\n",
       "            </tr>\n",
       "            <tr>\n",
       "                        <th id=\"T_87b4f79e_c8f9_11e9_9ce4_705681bf31b9level0_row19\" class=\"row_heading level0 row19\" >19</th>\n",
       "                        <td id=\"T_87b4f79e_c8f9_11e9_9ce4_705681bf31b9row19_col0\" class=\"data row19 col0\" >CH 3289, Tredyffrin, Chester County, PA - Groundwater Depth 1988-current</td>\n",
       "                        <td id=\"T_87b4f79e_c8f9_11e9_9ce4_705681bf31b9row19_col1\" class=\"data row19 col1\" >http://nwis.waterdata.usgs.gov/pa/nwis/gwlevels?site_no=400358075311301&agency_cd=USGS&format=rdb</td>\n",
       "            </tr>\n",
       "            <tr>\n",
       "                        <th id=\"T_87b4f79e_c8f9_11e9_9ce4_705681bf31b9level0_row20\" class=\"row_heading level0 row20\" >20</th>\n",
       "                        <td id=\"T_87b4f79e_c8f9_11e9_9ce4_705681bf31b9row20_col0\" class=\"data row20 col0\" >CH 5422, Londonderry, Chester County, PA - Groundwater Depth 2000-current</td>\n",
       "                        <td id=\"T_87b4f79e_c8f9_11e9_9ce4_705681bf31b9row20_col1\" class=\"data row20 col1\" >http://nwis.waterdata.usgs.gov/pa/nwis/gwlevels?site_no=395141075525401&agency_cd=USGS&format=rdb</td>\n",
       "            </tr>\n",
       "            <tr>\n",
       "                        <th id=\"T_87b4f79e_c8f9_11e9_9ce4_705681bf31b9level0_row21\" class=\"row_heading level0 row21\" >21</th>\n",
       "                        <td id=\"T_87b4f79e_c8f9_11e9_9ce4_705681bf31b9row21_col0\" class=\"data row21 col0\" >CH 6513, North Coventry, Chester County, PA - Groundwater Depth 2002-current</td>\n",
       "                        <td id=\"T_87b4f79e_c8f9_11e9_9ce4_705681bf31b9row21_col1\" class=\"data row21 col1\" >http://nwis.waterdata.usgs.gov/pa/nwis/gwlevels?site_no=401405075400301&agency_cd=USGS&format=rdb</td>\n",
       "            </tr>\n",
       "            <tr>\n",
       "                        <th id=\"T_87b4f79e_c8f9_11e9_9ce4_705681bf31b9level0_row22\" class=\"row_heading level0 row22\" >22</th>\n",
       "                        <td id=\"T_87b4f79e_c8f9_11e9_9ce4_705681bf31b9row22_col0\" class=\"data row22 col0\" >CH 6516, Pennsbury, Chester County, PA - Groundwater Depth 2001-current</td>\n",
       "                        <td id=\"T_87b4f79e_c8f9_11e9_9ce4_705681bf31b9row22_col1\" class=\"data row22 col1\" >http://nwis.waterdata.usgs.gov/pa/nwis/gwlevels?site_no=395201075363001&agency_cd=USGS&format=rdb</td>\n",
       "            </tr>\n",
       "            <tr>\n",
       "                        <th id=\"T_87b4f79e_c8f9_11e9_9ce4_705681bf31b9level0_row23\" class=\"row_heading level0 row23\" >23</th>\n",
       "                        <td id=\"T_87b4f79e_c8f9_11e9_9ce4_705681bf31b9row23_col0\" class=\"data row23 col0\" >CH 6517, West Caln, Chester County, PA - Groundwater Depth 2001-current</td>\n",
       "                        <td id=\"T_87b4f79e_c8f9_11e9_9ce4_705681bf31b9row23_col1\" class=\"data row23 col1\" >http://nwis.waterdata.usgs.gov/pa/nwis/gwlevels?site_no=400247075532401&agency_cd=USGS&format=rdb</td>\n",
       "            </tr>\n",
       "            <tr>\n",
       "                        <th id=\"T_87b4f79e_c8f9_11e9_9ce4_705681bf31b9level0_row24\" class=\"row_heading level0 row24\" >24</th>\n",
       "                        <td id=\"T_87b4f79e_c8f9_11e9_9ce4_705681bf31b9row24_col0\" class=\"data row24 col0\" >CH 6518, Lower Oxford, Chester County, PA - Groundwater Depth 2001-current</td>\n",
       "                        <td id=\"T_87b4f79e_c8f9_11e9_9ce4_705681bf31b9row24_col1\" class=\"data row24 col1\" >http://nwis.waterdata.usgs.gov/pa/nwis/gwlevels?site_no=394903075581901&agency_cd=USGS&format=rdb</td>\n",
       "            </tr>\n",
       "            <tr>\n",
       "                        <th id=\"T_87b4f79e_c8f9_11e9_9ce4_705681bf31b9level0_row25\" class=\"row_heading level0 row25\" >25</th>\n",
       "                        <td id=\"T_87b4f79e_c8f9_11e9_9ce4_705681bf31b9row25_col0\" class=\"data row25 col0\" >CH 7007, Wallace, Chester County, PA - Groundwater Depth 2005-current</td>\n",
       "                        <td id=\"T_87b4f79e_c8f9_11e9_9ce4_705681bf31b9row25_col1\" class=\"data row25 col1\" >http://nwis.waterdata.usgs.gov/pa/nwis/gwlevels?site_no=400411075445901&agency_cd=USGS&format=rdb</td>\n",
       "            </tr>\n",
       "            <tr>\n",
       "                        <th id=\"T_87b4f79e_c8f9_11e9_9ce4_705681bf31b9level0_row26\" class=\"row_heading level0 row26\" >26</th>\n",
       "                        <td id=\"T_87b4f79e_c8f9_11e9_9ce4_705681bf31b9row26_col0\" class=\"data row26 col0\" >CH 7269, Newlin, Chester County, PA - Groundwater Depth  2008-current</td>\n",
       "                        <td id=\"T_87b4f79e_c8f9_11e9_9ce4_705681bf31b9row26_col1\" class=\"data row26 col1\" >http://nwis.waterdata.usgs.gov/pa/nwis/gwlevels?site_no=395633075444401&agency_cd=USGS&format=rdb</td>\n",
       "            </tr>\n",
       "    </tbody></table>"
      ],
      "text/plain": [
       "<pandas.io.formats.style.Styler at 0x114e80f28>"
      ]
     },
     "execution_count": 52,
     "metadata": {},
     "output_type": "execute_result"
    }
   ],
   "source": [
    "df.style"
   ]
  },
  {
   "cell_type": "code",
   "execution_count": null,
   "metadata": {},
   "outputs": [],
   "source": []
  }
 ],
 "metadata": {
  "kernelspec": {
   "display_name": "Python 3",
   "language": "python",
   "name": "python3"
  },
  "language_info": {
   "codemirror_mode": {
    "name": "ipython",
    "version": 3
   },
   "file_extension": ".py",
   "mimetype": "text/x-python",
   "name": "python",
   "nbconvert_exporter": "python",
   "pygments_lexer": "ipython3",
   "version": "3.6.8"
  }
 },
 "nbformat": 4,
 "nbformat_minor": 2
}
